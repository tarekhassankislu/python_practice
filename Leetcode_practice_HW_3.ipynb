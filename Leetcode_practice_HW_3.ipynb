{
  "nbformat": 4,
  "nbformat_minor": 0,
  "metadata": {
    "colab": {
      "name": "Leetcode practice- HW 3.ipynb",
      "provenance": [],
      "collapsed_sections": [],
      "authorship_tag": "ABX9TyPDQvOd34WQqhtUUM0kLDN6",
      "include_colab_link": true
    },
    "kernelspec": {
      "name": "python3",
      "display_name": "Python 3"
    },
    "language_info": {
      "name": "python"
    }
  },
  "cells": [
    {
      "cell_type": "markdown",
      "metadata": {
        "id": "view-in-github",
        "colab_type": "text"
      },
      "source": [
        "<a href=\"https://colab.research.google.com/github/tarekhassankislu/python_practice/blob/main/Leetcode_practice_HW_3.ipynb\" target=\"_parent\"><img src=\"https://colab.research.google.com/assets/colab-badge.svg\" alt=\"Open In Colab\"/></a>"
      ]
    },
    {
      "cell_type": "markdown",
      "source": [
        "231. Power of Two"
      ],
      "metadata": {
        "id": "Kj7Vx7WUzX93"
      }
    },
    {
      "cell_type": "code",
      "execution_count": null,
      "metadata": {
        "id": "cutfn1NAyJht"
      },
      "outputs": [],
      "source": [
        "def PowerOfTwo(n: int) -> bool:\n",
        "        if n <= 0:\n",
        "            return False\n",
        "        elif n == 1:\n",
        "            return True\n",
        "        else:\n",
        "            while n > 1:\n",
        "                if n % 2 != 0:\n",
        "                    return False\n",
        "                n = n // 2\n",
        "                return True"
      ]
    },
    {
      "cell_type": "markdown",
      "source": [
        "217. Contains Duplicate"
      ],
      "metadata": {
        "id": "6r5hVw-s3_G3"
      }
    },
    {
      "cell_type": "code",
      "source": [
        "def Duplicate(nums: List[int]) -> bool:\n",
        "  numdict = {}\n",
        "for num in nums:\n",
        "  if num in numdict:\n",
        "    return True\n",
        "    else:\n",
        "      numdict[num] = num\n",
        "      return False"
      ],
      "metadata": {
        "colab": {
          "base_uri": "https://localhost:8080/",
          "height": 130
        },
        "id": "EsLjF6bi1nPA",
        "outputId": "14622cde-f022-46a3-db68-d93a60f7fb84"
      },
      "execution_count": null,
      "outputs": [
        {
          "output_type": "error",
          "ename": "SyntaxError",
          "evalue": "ignored",
          "traceback": [
            "\u001b[0;36m  File \u001b[0;32m\"<ipython-input-26-cb32a399056f>\"\u001b[0;36m, line \u001b[0;32m6\u001b[0m\n\u001b[0;31m    else:\u001b[0m\n\u001b[0m       ^\u001b[0m\n\u001b[0;31mSyntaxError\u001b[0m\u001b[0;31m:\u001b[0m invalid syntax\n"
          ]
        }
      ]
    },
    {
      "cell_type": "markdown",
      "source": [
        "1. Two Sum"
      ],
      "metadata": {
        "id": "LvN32OW84I2d"
      }
    },
    {
      "cell_type": "code",
      "source": [
        "import numbers\n",
        "from typing import List\n",
        "\n",
        "def Sum(nums: List[int], target: int) -> List[int]:\n",
        "        values= {}\n",
        "        \n",
        "        for j, x in enumerate(nums):\n",
        "            a = target - x\n",
        "            if a in values:\n",
        "                return (j, values[a])\n",
        "            else:\n",
        "                values[x] = j"
      ],
      "metadata": {
        "id": "tOFcBBFI4UN3"
      },
      "execution_count": 38,
      "outputs": []
    }
  ]
}